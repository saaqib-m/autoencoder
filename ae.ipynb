{
 "cells": [
  {
   "cell_type": "code",
   "execution_count": null,
   "metadata": {},
   "outputs": [],
   "source": [
    "import tensorflow as tf\n",
    "from tensorflow.keras.models import Sequential, Model\n",
    "from tensorflow.keras.layers import Dropout, Flatten, Dense, Conv2D, MaxPooling2D, Input, Reshape, UpSampling2D, InputLayer, Lambda, ZeroPadding2D, Cropping2D, Conv2DTranspose, BatchNormalization\n",
    "from tensorflow.keras.utils import to_categorical\n",
    "# from keras.utils import np_utils\n",
    "from tensorflow.keras.layers import Conv2D, MaxPool2D, UpSampling2D\n",
    "from keras.callbacks import EarlyStopping\n",
    "from tensorflow.keras.losses import binary_crossentropy\n",
    "from keras import backend as K\n",
    "# from keras import backend as objectives\n",
    "from tensorflow.keras.losses import mse, binary_crossentropy\n",
    "import skimage as sk\n",
    "from skimage.io import imread\n",
    "import matplotlib.pyplot as plt\n",
    "import numpy as np\n",
    "from sklearn.model_selection import train_test_split\n",
    "import zipfile\n",
    "import os\n",
    "from pathlib import Path\n",
    "import cv2 as cv2\n",
    "from tensorflow.python.framework.ops import disable_eager_execution\n",
    "# from PIL import ImageFile\n",
    "# ImageFile.LOAD_TRUNCATED_IMAGES = True\n"
   ]
  },
  {
   "cell_type": "code",
   "execution_count": null,
   "metadata": {},
   "outputs": [],
   "source": [
    "file_path = r\"C:\\Users\\Saaqib\\Documents\\Imperial\\Research Project\\SWET_data\"\n",
    "# file_path = r\"/rds/general/user/sim21/home/SWET_data\"\n",
    "img_path = []\n",
    "files = os.listdir(file_path)\n",
    "for root, directories, files in os.walk(file_path, topdown=False):\n",
    "\tfor name in files:\n",
    "\t\timg_path.append(os.path.join(root, name))"
   ]
  },
  {
   "cell_type": "code",
   "execution_count": null,
   "metadata": {},
   "outputs": [],
   "source": [
    "def get_input(path):\n",
    "    \"\"\"get specific image from path\"\"\"\n",
    "    img = imread(path)\n",
    "    return img\n",
    "\n",
    "def preprocess_input(img):\n",
    "    # convert between 0 and 1\n",
    "    return img.astype('float32')"
   ]
  },
  {
   "cell_type": "code",
   "execution_count": null,
   "metadata": {},
   "outputs": [],
   "source": [
    "x = []\n",
    "y = []\n",
    "for file_path in img_path:\n",
    "    input = get_input(file_path)\n",
    "    input = cv2.resize(input, (256,256))\n",
    "    input = sk.color.rgb2gray(input)\n",
    "    input = preprocess_input(input)\n",
    "    x.append(input)\n",
    "    y.append(input)\n",
    "x = np.array(x)\n",
    "y = np.array(y)"
   ]
  },
  {
   "cell_type": "code",
   "execution_count": null,
   "metadata": {},
   "outputs": [],
   "source": [
    "x_train, x_test, y_train, y_test = train_test_split(x, y)"
   ]
  },
  {
   "cell_type": "code",
   "execution_count": null,
   "metadata": {},
   "outputs": [],
   "source": [
    "x_train = x_train.reshape(-1,256,256,1)\n",
    "x_test = x_test.reshape(-1,256,256,1)\n",
    "y_train = y_train.reshape(-1,256,256,1)\n",
    "y_test = y_test.reshape(-1,256,256,1)"
   ]
  },
  {
   "cell_type": "code",
   "execution_count": null,
   "metadata": {},
   "outputs": [],
   "source": [
    "f, ax = plt.subplots(1,5)\n",
    "f.set_size_inches(80, 40)\n",
    "for i in range(5,10):\n",
    "    ax[i-5].imshow(x_train[i, :, :, 0].reshape(256,256))"
   ]
  },
  {
   "cell_type": "code",
   "execution_count": null,
   "metadata": {},
   "outputs": [],
   "source": [
    "input_layer = Input(shape=(256,256,1))\n",
    "\n",
    "x = Conv2D(32,(3,3),activation = 'relu', padding = 'same')(input_layer)    \n",
    "x = BatchNormalization()(x)\n",
    "x = MaxPooling2D((2,2), padding ='same')(x)\n",
    "x = Conv2D(64,(3,3),activation = 'relu', padding = 'same')(x)\n",
    "x = BatchNormalization()(x)\n",
    "x = MaxPooling2D((2,2), padding ='same')(x)\n",
    "x = Conv2D(128,(3,3), activation = 'relu', padding = 'same')(x)\n",
    "x = BatchNormalization()(x)\n",
    "x = MaxPooling2D((2,2), padding ='same')(x)\n",
    "x = Conv2D(256,(3,3), activation = 'relu', padding = 'same')(x)\n",
    "x = BatchNormalization()(x)\n",
    "latent_view = MaxPooling2D((2,2), padding ='same')(x)"
   ]
  },
  {
   "cell_type": "code",
   "execution_count": null,
   "metadata": {},
   "outputs": [],
   "source": [
    "# decoding architecture\n",
    "\n",
    "x = Conv2DTranspose(256,(3,3), activation = 'relu', padding = 'same')(latent_view)\n",
    "x = BatchNormalization()(x)\n",
    "x = UpSampling2D((2,2))(x)\n",
    "# x = Cropping2D([[0,1],[0,1]])(x)\n",
    "x = Conv2DTranspose(128,(3,3), activation = 'relu', padding = 'same')(x)\n",
    "x = BatchNormalization()(x)\n",
    "x = UpSampling2D((2,2))(x)\n",
    "# x = Cropping2D([[0,1],[0,1]])(x)\n",
    "x = Conv2DTranspose(64,(3,3), activation = 'relu', padding = 'same')(x)\n",
    "x = BatchNormalization()(x)\n",
    "x = UpSampling2D((2,2))(x)\n",
    "x = Conv2DTranspose(32,(3,3), activation = 'relu', padding = 'same')(x)\n",
    "x = BatchNormalization()(x)\n",
    "x = UpSampling2D((2,2))(x)\n",
    "output_layer = Conv2DTranspose(1,(3,3), padding ='same')(x)"
   ]
  },
  {
   "cell_type": "code",
   "execution_count": null,
   "metadata": {},
   "outputs": [],
   "source": [
    "model = Model(input_layer, output_layer)\n",
    "model.compile(optimizer='adam', loss='mse')\n",
    "model.summary()"
   ]
  },
  {
   "cell_type": "code",
   "execution_count": null,
   "metadata": {},
   "outputs": [],
   "source": [
    "history = model.fit(x_train, y_train,\n",
    "                epochs=50,\n",
    "                batch_size=128,\n",
    "                validation_data=(x_test, y_test)).history"
   ]
  },
  {
   "cell_type": "code",
   "execution_count": null,
   "metadata": {},
   "outputs": [],
   "source": [
    "plt.plot(history['loss'], linewidth=2, label='Train')\n",
    "plt.plot(history['val_loss'], linewidth=2, label='Test')\n",
    "plt.legend(loc='upper right')\n",
    "plt.title('Model loss')\n",
    "plt.ylabel('Loss')\n",
    "plt.xlabel('Epoch')\n",
    "#plt.ylim(ymin=0.70,ymax=1)\n",
    "plt.show()"
   ]
  },
  {
   "cell_type": "markdown",
   "metadata": {},
   "source": [
    "Latent Space"
   ]
  },
  {
   "cell_type": "code",
   "execution_count": null,
   "metadata": {},
   "outputs": [],
   "source": [
    "# compile the model\n",
    "model_latent = Model(input_layer, latent_view)\n",
    "model_latent.compile(optimizer='adam', loss='mse')"
   ]
  },
  {
   "cell_type": "code",
   "execution_count": null,
   "metadata": {},
   "outputs": [],
   "source": [
    "n = np.random.randint(0,len(y_test))\n",
    "\n",
    "preds = model_latent.predict(y_test[n:n+4])\n",
    "\n",
    "f, ax = plt.subplots(2,2)\n",
    "ax = ax.ravel()\n",
    "for j in range(4):\n",
    "    for i,a in enumerate(range(n,n+3)):\n",
    "        ax[j].imshow(preds[i, :, :, j])\n",
    "plt.show()\n"
   ]
  },
  {
   "cell_type": "code",
   "execution_count": null,
   "metadata": {},
   "outputs": [],
   "source": [
    "pred = model.predict(x_test)\n",
    "plt.figure(figsize=(20, 4))\n",
    "for i in range(5):\n",
    "    # Display original\n",
    "    ax = plt.subplot(2, 5, i + 1)\n",
    "    plt.imshow(x_test[i].reshape(256,256))\n",
    "    plt.gray()\n",
    "    ax.get_xaxis().set_visible(False)\n",
    "    ax.get_yaxis().set_visible(False)\n",
    "    # Display reconstruction\n",
    "    ax = plt.subplot(2, 5, i + 1 + 5)\n",
    "    plt.imshow(pred[i].reshape(256,256))\n",
    "    plt.gray()\n",
    "    ax.get_xaxis().set_visible(False)\n",
    "    ax.get_yaxis().set_visible(False)\n",
    "plt.show()"
   ]
  },
  {
   "cell_type": "code",
   "execution_count": null,
   "metadata": {},
   "outputs": [],
   "source": [
    "n = np.random.randint(0,len(x_test))\n",
    "pred = model.predict(x_test[n:n+5])\n",
    "preds = model_latent.predict(x_test[n:n+5])\n",
    "f, ax = plt.subplots(1,5)\n",
    "ax = ax.ravel()\n",
    "plt.figure(figsize=(20, 4))\n",
    "for i in range(5):\n",
    "    # Display original\n",
    "    plt.subplot(3, 5, i + 1)\n",
    "    ax[i].imshow(x_test[i].reshape(256,256))\n",
    "    plt.gray()\n",
    "    ax[i].get_xaxis().set_visible(False)\n",
    "    ax[i].get_yaxis().set_visible(False)\n",
    "    \n",
    "    # Display latent space\n",
    "    plt.subplot(3, 5, i + 1+ 5)\n",
    "    for j,a in enumerate(range(n,n+3)):\n",
    "        ax[j].imshow(preds[j, :, :, i])\n",
    "    \n",
    "    # Display reconstruction\n",
    "    plt.subplot(3, 5, i + 1 + 5+ 5)\n",
    "    plt.imshow(pred[i].reshape(256,256))\n",
    "    plt.gray()\n",
    "#     ax.get_xaxis().set_visible(False)\n",
    "#     ax.get_yaxis().set_visible(False)\n",
    "\n",
    "\n",
    "\n"
   ]
  }
 ],
 "metadata": {
  "interpreter": {
   "hash": "e16dddf07b681241daaa47640c1db83e99c181a0b2fe1df995963d091a6441eb"
  },
  "kernelspec": {
   "display_name": "Python 3.9.6 64-bit",
   "language": "python",
   "name": "python3"
  },
  "language_info": {
   "codemirror_mode": {
    "name": "ipython",
    "version": 3
   },
   "file_extension": ".py",
   "mimetype": "text/x-python",
   "name": "python",
   "nbconvert_exporter": "python",
   "pygments_lexer": "ipython3",
   "version": "3.9.6"
  },
  "orig_nbformat": 4
 },
 "nbformat": 4,
 "nbformat_minor": 2
}
